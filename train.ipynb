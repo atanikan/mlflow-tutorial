{
 "cells": [
  {
   "cell_type": "markdown",
   "metadata": {},
   "source": [
    "# MLflow Training Tutorial\n",
    "\n",
    "This `train.pynb` Jupyter notebook predicts the quality of wine using [sklearn.linear_model.ElasticNet](http://scikit-learn.org/stable/modules/generated/sklearn.linear_model.ElasticNet.html)."
   ]
  },
  {
   "cell_type": "code",
   "execution_count": 4,
   "metadata": {},
   "outputs": [],
   "source": [
    "# Wine Quality Sample\n",
    "def train(in_alpha, in_l1_ratio):\n",
    "    import os\n",
    "    import warnings\n",
    "    import sys\n",
    "\n",
    "    import pandas as pd\n",
    "    import numpy as np\n",
    "    from sklearn.metrics import mean_squared_error, mean_absolute_error, r2_score\n",
    "    from sklearn.model_selection import train_test_split\n",
    "    from sklearn.linear_model import ElasticNet\n",
    "    from mlflow.models.signature import infer_signature\n",
    "    from urllib.parse import urlparse\n",
    "\n",
    "\n",
    "    import mlflow\n",
    "    import mlflow.sklearn\n",
    "    \n",
    "    \n",
    "    import logging\n",
    "    logging.basicConfig(level=logging.WARN)\n",
    "    logger = logging.getLogger(__name__)\n",
    "    \n",
    "    \n",
    "    mlflow.set_tracking_uri(\"http://127.0.0.1:8080\") # set tracking server information\n",
    "    mlflow.set_experiment(\"wine_quality_linear_regression\") # set experiment name\n",
    "    mlflow.autolog() # automatically logs metrics \n",
    "    \n",
    "    \n",
    "    def eval_metrics(actual, pred):\n",
    "        rmse = np.sqrt(mean_squared_error(actual, pred))\n",
    "        mae = mean_absolute_error(actual, pred)\n",
    "        r2 = r2_score(actual, pred)\n",
    "        return rmse, mae, r2\n",
    "\n",
    "\n",
    "    np.random.seed(40)\n",
    "\n",
    "    # Read the wine-quality csv file\n",
    "    data = pd.read_csv('winequality-red.csv', sep=\";\")\n",
    "    # Split the data into training and test sets. (0.75, 0.25) split.\n",
    "    train, test = train_test_split(data)\n",
    "\n",
    "    # The predicted column is \"quality\" which is a scalar from [3, 9]\n",
    "    train_x = train.drop([\"quality\"], axis=1)\n",
    "    test_x = test.drop([\"quality\"], axis=1)\n",
    "    train_y = train[[\"quality\"]]\n",
    "    test_y = test[[\"quality\"]]\n",
    "\n",
    "    # Set default values if no alpha and no l1_ratio is provided\n",
    "    alpha = float(in_alpha) if in_alpha else 0.5\n",
    "    l1_ratio = float(in_l1_ratio) if in_l1_ratio else 0.5\n",
    "\n",
    "    # Useful for multiple runs (only doing one run in this sample notebook)    \n",
    "    with mlflow.start_run():\n",
    "        # Execute ElasticNet\n",
    "        lr = ElasticNet(alpha=alpha, l1_ratio=l1_ratio, random_state=42)\n",
    "        lr.fit(train_x, train_y)\n",
    "\n",
    "        # Evaluate Metrics\n",
    "        predicted_qualities = lr.predict(test_x)\n",
    "        (rmse, mae, r2) = eval_metrics(test_y, predicted_qualities)\n",
    "\n",
    "        # Print out metrics\n",
    "        print(\"Elasticnet model (alpha=%f, l1_ratio=%f):\" % (alpha, l1_ratio))\n",
    "        print(\"  RMSE: %s\" % rmse)\n",
    "        print(\"  MAE: %s\" % mae)\n",
    "        print(\"  R2: %s\" % r2)\n",
    "\n",
    "        # Log parameter, metrics, and model to MLflow\n",
    "        mlflow.log_param(\"alpha\", alpha)\n",
    "        mlflow.log_param(\"l1_ratio\", l1_ratio)\n",
    "        mlflow.log_metric(\"rmse\", rmse)\n",
    "        mlflow.log_metric(\"r2\", r2)\n",
    "        mlflow.log_metric(\"mae\", mae)\n",
    "\n",
    "        tracking_url_type_store = urlparse(mlflow.get_tracking_uri()).scheme\n",
    "\n",
    "        # Model registry does not work with file store\n",
    "        # Register the model\n",
    "        # There are other ways to use the Model Registry, which depends on the use case,\n",
    "        # please refer to the doc for more information:\n",
    "        # https://mlflow.org/docs/latest/model-registry.html#api-workflow\n",
    "        signature = infer_signature(train_x, lr.predict(test_x))\n",
    "        mlflow.sklearn.log_model(\n",
    "            sk_model=lr,\n",
    "            artifact_path=\"sklearn-model\",\n",
    "            registered_model_name=\"sk-learn-random-forest-reg-model\",\n",
    "            signature=signature\n",
    "        )\n"
   ]
  },
  {
   "cell_type": "code",
   "execution_count": 12,
   "metadata": {},
   "outputs": [
    {
     "name": "stderr",
     "output_type": "stream",
     "text": [
      "2022/05/19 01:30:56 WARNING mlflow.utils.autologging_utils: You are using an unsupported version of sklearn. If you encounter errors during autologging, try upgrading / downgrading sklearn to a supported version, or try upgrading MLflow.\n",
      "2022/05/19 01:30:56 INFO mlflow.tracking.fluent: Autologging successfully enabled for sklearn.\n"
     ]
    },
    {
     "name": "stdout",
     "output_type": "stream",
     "text": [
      "Elasticnet model (alpha=0.500000, l1_ratio=0.500000):\n",
      "  RMSE: 0.7931640229276851\n",
      "  MAE: 0.6271946374319586\n",
      "  R2: 0.10862644997792614\n"
     ]
    },
    {
     "name": "stderr",
     "output_type": "stream",
     "text": [
      "Registered model 'sk-learn-random-forest-reg-model' already exists. Creating a new version of this model...\n",
      "2022/05/19 01:31:06 INFO mlflow.tracking._model_registry.client: Waiting up to 300 seconds for model version to finish creation.                     Model name: sk-learn-random-forest-reg-model, version 17\n",
      "Created version '17' of model 'sk-learn-random-forest-reg-model'.\n"
     ]
    }
   ],
   "source": [
    "train(0.5, 0.5)"
   ]
  },
  {
   "cell_type": "code",
   "execution_count": 8,
   "metadata": {},
   "outputs": [
    {
     "name": "stderr",
     "output_type": "stream",
     "text": [
      "2022/05/19 00:50:33 WARNING mlflow.utils.autologging_utils: You are using an unsupported version of sklearn. If you encounter errors during autologging, try upgrading / downgrading sklearn to a supported version, or try upgrading MLflow.\n",
      "2022/05/19 00:50:33 INFO mlflow.tracking.fluent: Autologging successfully enabled for sklearn.\n"
     ]
    },
    {
     "name": "stdout",
     "output_type": "stream",
     "text": [
      "Elasticnet model (alpha=0.200000, l1_ratio=0.200000):\n",
      "  RMSE: 0.7336400911821402\n",
      "  MAE: 0.5643841279275428\n",
      "  R2: 0.23739466063584158\n"
     ]
    },
    {
     "name": "stderr",
     "output_type": "stream",
     "text": [
      "Registered model 'sk-learn-random-forest-reg-model' already exists. Creating a new version of this model...\n",
      "2022/05/19 00:50:44 INFO mlflow.tracking._model_registry.client: Waiting up to 300 seconds for model version to finish creation.                     Model name: sk-learn-random-forest-reg-model, version 11\n",
      "Created version '11' of model 'sk-learn-random-forest-reg-model'.\n"
     ]
    }
   ],
   "source": [
    "train(0.2, 0.2)"
   ]
  },
  {
   "cell_type": "code",
   "execution_count": 9,
   "metadata": {},
   "outputs": [
    {
     "name": "stderr",
     "output_type": "stream",
     "text": [
      "2022/05/19 00:50:44 WARNING mlflow.utils.autologging_utils: You are using an unsupported version of sklearn. If you encounter errors during autologging, try upgrading / downgrading sklearn to a supported version, or try upgrading MLflow.\n",
      "2022/05/19 00:50:44 INFO mlflow.tracking.fluent: Autologging successfully enabled for sklearn.\n"
     ]
    },
    {
     "name": "stdout",
     "output_type": "stream",
     "text": [
      "Elasticnet model (alpha=0.100000, l1_ratio=0.100000):\n",
      "  RMSE: 0.7128829045893679\n",
      "  MAE: 0.5462202174984664\n",
      "  R2: 0.2799376066653344\n"
     ]
    },
    {
     "name": "stderr",
     "output_type": "stream",
     "text": [
      "Registered model 'sk-learn-random-forest-reg-model' already exists. Creating a new version of this model...\n",
      "2022/05/19 00:50:57 INFO mlflow.tracking._model_registry.client: Waiting up to 300 seconds for model version to finish creation.                     Model name: sk-learn-random-forest-reg-model, version 12\n",
      "Created version '12' of model 'sk-learn-random-forest-reg-model'.\n"
     ]
    }
   ],
   "source": [
    "train(0.1, 0.1)"
   ]
  },
  {
   "cell_type": "code",
   "execution_count": 10,
   "metadata": {},
   "outputs": [
    {
     "name": "stdout",
     "output_type": "stream",
     "text": [
      "Elasticnet model (alpha=4.500000, l1_ratio=0.900000):\n",
      "  RMSE: 0.8381636359390264\n",
      "  MAE: 0.6953449273923491\n",
      "  R2: 0.004614387573194323\n"
     ]
    },
    {
     "name": "stderr",
     "output_type": "stream",
     "text": [
      "Registered model 'sk-learn-random-forest-reg-model' already exists. Creating a new version of this model...\n",
      "2022/05/19 01:28:30 INFO mlflow.tracking._model_registry.client: Waiting up to 300 seconds for model version to finish creation.                     Model name: sk-learn-random-forest-reg-model, version 16\n",
      "Created version '16' of model 'sk-learn-random-forest-reg-model'.\n"
     ]
    }
   ],
   "source": [
    "train(4.5, 0.9)"
   ]
  },
  {
   "cell_type": "code",
   "execution_count": 2,
   "metadata": {},
   "outputs": [
    {
     "name": "stderr",
     "output_type": "stream",
     "text": [
      "2022/05/19 02:09:22 WARNING mlflow.utils.autologging_utils: You are using an unsupported version of sklearn. If you encounter errors during autologging, try upgrading / downgrading sklearn to a supported version, or try upgrading MLflow.\n",
      "2022/05/19 02:09:23 INFO mlflow.tracking.fluent: Autologging successfully enabled for sklearn.\n",
      "2022/05/19 02:09:25 WARNING mlflow.utils.autologging_utils: MLflow autologging encountered a warning: \"/projects/datascience/atanikanti/mlflow_env/lib/python3.9/site-packages/_distutils_hack/__init__.py:30: UserWarning: Setuptools is replacing distutils.\"\n"
     ]
    },
    {
     "name": "stdout",
     "output_type": "stream",
     "text": [
      "Elasticnet model (alpha=1.200000, l1_ratio=0.900000):\n",
      "  RMSE: 0.832793747039262\n",
      "  MAE: 0.6731067319470196\n",
      "  R2: 0.017327866377111367\n"
     ]
    },
    {
     "name": "stderr",
     "output_type": "stream",
     "text": [
      "Registered model 'sk-learn-random-forest-reg-model' already exists. Creating a new version of this model...\n",
      "2022/05/19 02:09:32 INFO mlflow.tracking._model_registry.client: Waiting up to 300 seconds for model version to finish creation.                     Model name: sk-learn-random-forest-reg-model, version 18\n",
      "Created version '18' of model 'sk-learn-random-forest-reg-model'.\n"
     ]
    }
   ],
   "source": [
    "train(1.2, 0.9)"
   ]
  },
  {
   "cell_type": "code",
   "execution_count": 15,
   "metadata": {},
   "outputs": [
    {
     "name": "stdout",
     "output_type": "stream",
     "text": [
      "no change     /lus/theta-fs0/software/thetagpu/conda/2021-06-26/mconda3/condabin/conda\n",
      "no change     /lus/theta-fs0/software/thetagpu/conda/2021-06-26/mconda3/bin/conda\n",
      "no change     /lus/theta-fs0/software/thetagpu/conda/2021-06-26/mconda3/bin/conda-env\n",
      "no change     /lus/theta-fs0/software/thetagpu/conda/2021-06-26/mconda3/bin/activate\n",
      "no change     /lus/theta-fs0/software/thetagpu/conda/2021-06-26/mconda3/bin/deactivate\n",
      "no change     /lus/theta-fs0/software/thetagpu/conda/2021-06-26/mconda3/etc/profile.d/conda.sh\n",
      "no change     /lus/theta-fs0/software/thetagpu/conda/2021-06-26/mconda3/etc/fish/conf.d/conda.fish\n",
      "no change     /lus/theta-fs0/software/thetagpu/conda/2021-06-26/mconda3/shell/condabin/Conda.psm1\n",
      "no change     /lus/theta-fs0/software/thetagpu/conda/2021-06-26/mconda3/shell/condabin/conda-hook.ps1\n",
      "no change     /lus/theta-fs0/software/thetagpu/conda/2021-06-26/mconda3/lib/python3.8/site-packages/xontrib/conda.xsh\n",
      "no change     /lus/theta-fs0/software/thetagpu/conda/2021-06-26/mconda3/etc/profile.d/conda.csh\n",
      "no change     /home/atanikanti/.bashrc\n",
      "No action taken.\n",
      "2022/05/19 02:51:14 WARNING mlflow.utils.autologging_utils: You are using an unsupported version of sklearn. If you encounter errors during autologging, try upgrading / downgrading sklearn to a supported version, or try upgrading MLflow.\n",
      "2022/05/19 02:51:14 INFO mlflow.tracking.fluent: Autologging successfully enabled for sklearn.\n",
      "here\n",
      "here222\n",
      "Traceback (most recent call last):\n",
      "  File \"/projects/datascience/atanikanti/mlflow_env/lib/python3.9/site-packages/requests/adapters.py\", line 440, in send\n",
      "    resp = conn.urlopen(\n",
      "  File \"/projects/datascience/atanikanti/mlflow_env/lib/python3.9/site-packages/urllib3/connectionpool.py\", line 876, in urlopen\n",
      "    return self.urlopen(\n",
      "  File \"/projects/datascience/atanikanti/mlflow_env/lib/python3.9/site-packages/urllib3/connectionpool.py\", line 876, in urlopen\n",
      "    return self.urlopen(\n",
      "  File \"/projects/datascience/atanikanti/mlflow_env/lib/python3.9/site-packages/urllib3/connectionpool.py\", line 876, in urlopen\n",
      "    return self.urlopen(\n",
      "  [Previous line repeated 2 more times]\n",
      "  File \"/projects/datascience/atanikanti/mlflow_env/lib/python3.9/site-packages/urllib3/connectionpool.py\", line 866, in urlopen\n",
      "    retries = retries.increment(method, url, response=response, _pool=self)\n",
      "  File \"/projects/datascience/atanikanti/mlflow_env/lib/python3.9/site-packages/urllib3/util/retry.py\", line 592, in increment\n",
      "    raise MaxRetryError(_pool, url, error or ResponseError(cause))\n",
      "urllib3.exceptions.MaxRetryError: HTTPConnectionPool(host='proxy.tmi.alcf.anl.gov', port=3128): Max retries exceeded with url: http://127.0.0.1:8080/api/2.0/mlflow/runs/get?run_uuid=2&run_id=2 (Caused by ResponseError('too many 503 error responses'))\n",
      "\n",
      "During handling of the above exception, another exception occurred:\n",
      "\n",
      "Traceback (most recent call last):\n",
      "  File \"/projects/datascience/atanikanti/mlflow_env/lib/python3.9/site-packages/mlflow/utils/rest_utils.py\", line 151, in http_request\n",
      "    return _get_http_response_with_retries(\n",
      "  File \"/projects/datascience/atanikanti/mlflow_env/lib/python3.9/site-packages/mlflow/utils/rest_utils.py\", line 91, in _get_http_response_with_retries\n",
      "    return session.request(method, url, **kwargs)\n",
      "  File \"/projects/datascience/atanikanti/mlflow_env/lib/python3.9/site-packages/requests/sessions.py\", line 529, in request\n",
      "    resp = self.send(prep, **send_kwargs)\n",
      "  File \"/projects/datascience/atanikanti/mlflow_env/lib/python3.9/site-packages/requests/sessions.py\", line 645, in send\n",
      "    r = adapter.send(request, **kwargs)\n",
      "  File \"/projects/datascience/atanikanti/mlflow_env/lib/python3.9/site-packages/requests/adapters.py\", line 510, in send\n",
      "    raise RetryError(e, request=request)\n",
      "requests.exceptions.RetryError: HTTPConnectionPool(host='proxy.tmi.alcf.anl.gov', port=3128): Max retries exceeded with url: http://127.0.0.1:8080/api/2.0/mlflow/runs/get?run_uuid=2&run_id=2 (Caused by ResponseError('too many 503 error responses'))\n",
      "\n",
      "During handling of the above exception, another exception occurred:\n",
      "\n",
      "Traceback (most recent call last):\n",
      "  File \"/gpfs/mira-home/atanikanti/mlflow_project/train.py\", line 107, in <module>\n",
      "    train(sys.argv[1],sys.argv[2])\n",
      "  File \"/gpfs/mira-home/atanikanti/mlflow_project/train.py\", line 55, in train\n",
      "    with mlflow.start_run(run_id='2'):\n",
      "  File \"/projects/datascience/atanikanti/mlflow_env/lib/python3.9/site-packages/mlflow/tracking/fluent.py\", line 254, in start_run\n",
      "    active_run_obj = client.get_run(existing_run_id)\n",
      "  File \"/projects/datascience/atanikanti/mlflow_env/lib/python3.9/site-packages/mlflow/tracking/client.py\", line 150, in get_run\n",
      "    return self._tracking_client.get_run(run_id)\n",
      "  File \"/projects/datascience/atanikanti/mlflow_env/lib/python3.9/site-packages/mlflow/tracking/_tracking_service/client.py\", line 64, in get_run\n",
      "    return self.store.get_run(run_id)\n",
      "  File \"/projects/datascience/atanikanti/mlflow_env/lib/python3.9/site-packages/mlflow/store/tracking/rest_store.py\", line 138, in get_run\n",
      "    response_proto = self._call_endpoint(GetRun, req_body)\n",
      "  File \"/projects/datascience/atanikanti/mlflow_env/lib/python3.9/site-packages/mlflow/store/tracking/rest_store.py\", line 56, in _call_endpoint\n",
      "    return call_endpoint(self.get_host_creds(), endpoint, method, json_body, response_proto)\n",
      "  File \"/projects/datascience/atanikanti/mlflow_env/lib/python3.9/site-packages/mlflow/utils/rest_utils.py\", line 249, in call_endpoint\n",
      "    response = http_request(\n",
      "  File \"/projects/datascience/atanikanti/mlflow_env/lib/python3.9/site-packages/mlflow/utils/rest_utils.py\", line 163, in http_request\n",
      "    raise MlflowException(\"API request to %s failed with exception %s\" % (url, e))\n",
      "mlflow.exceptions.MlflowException: API request to http://127.0.0.1:8080/api/2.0/mlflow/runs/get failed with exception HTTPConnectionPool(host='proxy.tmi.alcf.anl.gov', port=3128): Max retries exceeded with url: http://127.0.0.1:8080/api/2.0/mlflow/runs/get?run_uuid=2&run_id=2 (Caused by ResponseError('too many 503 error responses'))\n"
     ]
    }
   ],
   "source": [
    "!module load conda && conda init bash && conda activate /projects/datascience/atanikanti/mlflow_env && python train.py 0.1 0.2"
   ]
  },
  {
   "cell_type": "code",
   "execution_count": 4,
   "metadata": {},
   "outputs": [
    {
     "name": "stderr",
     "output_type": "stream",
     "text": [
      "2022/05/19 03:03:01 WARNING mlflow.utils.autologging_utils: You are using an unsupported version of sklearn. If you encounter errors during autologging, try upgrading / downgrading sklearn to a supported version, or try upgrading MLflow.\n",
      "2022/05/19 03:03:01 INFO mlflow.tracking.fluent: Autologging successfully enabled for sklearn.\n"
     ]
    },
    {
     "name": "stdout",
     "output_type": "stream",
     "text": [
      "here\n"
     ]
    },
    {
     "name": "stderr",
     "output_type": "stream",
     "text": [
      "2022/05/19 03:03:04 WARNING mlflow.utils.autologging_utils: MLflow autologging encountered a warning: \"/projects/datascience/atanikanti/mlflow_env/lib/python3.9/site-packages/_distutils_hack/__init__.py:30: UserWarning: Setuptools is replacing distutils.\"\n"
     ]
    },
    {
     "name": "stdout",
     "output_type": "stream",
     "text": [
      "Elasticnet model (alpha=0.500000, l1_ratio=1.000000):\n",
      "  RMSE: 0.832819092896359\n",
      "  MAE: 0.6681279771237894\n",
      "  R2: 0.017268050734704055\n"
     ]
    },
    {
     "name": "stderr",
     "output_type": "stream",
     "text": [
      "Registered model 'sk-learn-random-forest-reg-model' already exists. Creating a new version of this model...\n",
      "2022/05/19 03:03:13 INFO mlflow.tracking._model_registry.client: Waiting up to 300 seconds for model version to finish creation.                     Model name: sk-learn-random-forest-reg-model, version 19\n",
      "Created version '19' of model 'sk-learn-random-forest-reg-model'.\n"
     ]
    }
   ],
   "source": [
    "%run train.py 0.5 1"
   ]
  },
  {
   "cell_type": "code",
   "execution_count": null,
   "metadata": {},
   "outputs": [],
   "source": []
  }
 ],
 "metadata": {
  "kernelspec": {
   "display_name": "mlflow_env",
   "language": "python",
   "name": "mlflow_env"
  },
  "language_info": {
   "codemirror_mode": {
    "name": "ipython",
    "version": 3
   },
   "file_extension": ".py",
   "mimetype": "text/x-python",
   "name": "python",
   "nbconvert_exporter": "python",
   "pygments_lexer": "ipython3",
   "version": "3.9.12"
  }
 },
 "nbformat": 4,
 "nbformat_minor": 2
}
